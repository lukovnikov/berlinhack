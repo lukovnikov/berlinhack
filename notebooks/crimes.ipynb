{
 "cells": [
  {
   "cell_type": "code",
   "execution_count": 1,
   "metadata": {
    "collapsed": true
   },
   "outputs": [],
   "source": [
    "import pandas as pd"
   ]
  },
  {
   "cell_type": "code",
   "execution_count": 2,
   "metadata": {
    "collapsed": true
   },
   "outputs": [],
   "source": [
    "df = pd.DataFrame.from_csv(\"/home/denis/dev/hack/berlinhack/data/all-street-2015.csv\")"
   ]
  },
  {
   "cell_type": "code",
   "execution_count": 3,
   "metadata": {
    "collapsed": false
   },
   "outputs": [
    {
     "name": "stdout",
     "output_type": "stream",
     "text": [
      "Index([u'Month', u'Reported by', u'Falls within', u'Longitude', u'Latitude',\n",
      "       u'Location', u'LSOA code', u'LSOA name', u'Crime type',\n",
      "       u'Last outcome category', u'Context'],\n",
      "      dtype='object')\n",
      "['Status update unavailable' nan\n",
      " 'Investigation complete; no suspect identified'\n",
      " 'Defendant found not guilty' 'Offender given a caution'\n",
      " 'Offender given conditional discharge' 'Court result unavailable'\n",
      " 'Offender given community sentence' 'Offender otherwise dealt with'\n",
      " 'Local resolution' 'Offender given suspended prison sentence'\n",
      " 'Offender sent to prison' 'Offender given penalty notice'\n",
      " 'Offender given a drugs possession warning' 'Court case unable to proceed'\n",
      " 'Awaiting court outcome' 'Offender fined'\n",
      " 'Suspect charged as part of another case' 'Offender deprived of property'\n",
      " 'Offender ordered to pay compensation' 'Offender given absolute discharge'\n",
      " 'Formal action is not in the public interest'\n",
      " 'Unable to prosecute suspect' 'Defendant sent to Crown Court'\n",
      " 'Further investigation is not in the public interest']\n"
     ]
    }
   ],
   "source": [
    "print(df.columns)\n",
    "print(df[\"Last outcome category\"].unique())"
   ]
  },
  {
   "cell_type": "code",
   "execution_count": 4,
   "metadata": {
    "collapsed": true
   },
   "outputs": [],
   "source": [
    "ndf = df.drop(\"Reported by\", 1)\n",
    "ndf = ndf.drop(\"Falls within\", 1)\n",
    "ndf = ndf.drop(\"LSOA name\", 1)\n",
    "ndf = ndf.drop(\"Context\", 1)\n",
    "ndf = ndf.reset_index()\n",
    "ndf = ndf.drop(\"Crime ID\", 1)"
   ]
  },
  {
   "cell_type": "code",
   "execution_count": 5,
   "metadata": {
    "collapsed": false
   },
   "outputs": [
    {
     "data": {
      "text/plain": [
       "61827192"
      ]
     },
     "execution_count": 5,
     "metadata": {},
     "output_type": "execute_result"
    }
   ],
   "source": [
    "ndf.as_matrix().nbytes"
   ]
  },
  {
   "cell_type": "code",
   "execution_count": 6,
   "metadata": {
    "collapsed": false
   },
   "outputs": [
    {
     "data": {
      "text/plain": [
       "Index([u'Month', u'Longitude', u'Latitude', u'Location', u'LSOA code',\n",
       "       u'Crime type', u'Last outcome category'],\n",
       "      dtype='object')"
      ]
     },
     "execution_count": 6,
     "metadata": {},
     "output_type": "execute_result"
    }
   ],
   "source": [
    "ndf.columns"
   ]
  },
  {
   "cell_type": "code",
   "execution_count": null,
   "metadata": {
    "collapsed": false
   },
   "outputs": [],
   "source": []
  },
  {
   "cell_type": "code",
   "execution_count": 7,
   "metadata": {
    "collapsed": true
   },
   "outputs": [],
   "source": [
    "toconverts = [\"Crime type\", \"Last outcome category\"]\n",
    "dicts = []\n",
    "for toconvert in toconverts:\n",
    "    data, dic = pd.factorize(ndf[toconvert])\n",
    "    ndf[toconvert] = data\n",
    "    dicts.append(dic)"
   ]
  },
  {
   "cell_type": "code",
   "execution_count": 8,
   "metadata": {
    "collapsed": false
   },
   "outputs": [
    {
     "data": {
      "text/plain": [
       "[Index([u'Criminal damage and arson', u'Other theft', u'Anti-social behaviour',\n",
       "        u'Burglary', u'Public order', u'Vehicle crime',\n",
       "        u'Violence and sexual offences', u'Other crime', u'Shoplifting',\n",
       "        u'Bicycle theft', u'Drugs', u'Theft from the person', u'Robbery',\n",
       "        u'Possession of weapons'],\n",
       "       dtype='object'), Index([u'Status update unavailable',\n",
       "        u'Investigation complete; no suspect identified',\n",
       "        u'Defendant found not guilty', u'Offender given a caution',\n",
       "        u'Offender given conditional discharge', u'Court result unavailable',\n",
       "        u'Offender given community sentence', u'Offender otherwise dealt with',\n",
       "        u'Local resolution', u'Offender given suspended prison sentence',\n",
       "        u'Offender sent to prison', u'Offender given penalty notice',\n",
       "        u'Offender given a drugs possession warning',\n",
       "        u'Court case unable to proceed', u'Awaiting court outcome',\n",
       "        u'Offender fined', u'Suspect charged as part of another case',\n",
       "        u'Offender deprived of property',\n",
       "        u'Offender ordered to pay compensation',\n",
       "        u'Offender given absolute discharge',\n",
       "        u'Formal action is not in the public interest',\n",
       "        u'Unable to prosecute suspect', u'Defendant sent to Crown Court',\n",
       "        u'Further investigation is not in the public interest'],\n",
       "       dtype='object')]"
      ]
     },
     "execution_count": 8,
     "metadata": {},
     "output_type": "execute_result"
    }
   ],
   "source": [
    "dicts"
   ]
  },
  {
   "cell_type": "code",
   "execution_count": null,
   "metadata": {
    "collapsed": true
   },
   "outputs": [],
   "source": []
  },
  {
   "cell_type": "code",
   "execution_count": null,
   "metadata": {
    "collapsed": true
   },
   "outputs": [],
   "source": []
  },
  {
   "cell_type": "code",
   "execution_count": 9,
   "metadata": {
    "collapsed": true
   },
   "outputs": [],
   "source": [
    "ndicts = {}\n",
    "for k, v in zip(toconverts, [list(dic) for dic in dicts]):\n",
    "    ndicts[k] = v"
   ]
  },
  {
   "cell_type": "code",
   "execution_count": 17,
   "metadata": {
    "collapsed": false
   },
   "outputs": [
    {
     "data": {
      "text/plain": [
       "list"
      ]
     },
     "execution_count": 17,
     "metadata": {},
     "output_type": "execute_result"
    }
   ],
   "source": [
    "type(ndicts[\"Crime type\"])"
   ]
  },
  {
   "cell_type": "code",
   "execution_count": null,
   "metadata": {
    "collapsed": false
   },
   "outputs": [],
   "source": []
  },
  {
   "cell_type": "code",
   "execution_count": 11,
   "metadata": {
    "collapsed": true
   },
   "outputs": [],
   "source": [
    "ndf.to_csv(\"/home/denis/dev/hack/berlinhack/data/crimes.csv\")"
   ]
  },
  {
   "cell_type": "code",
   "execution_count": 18,
   "metadata": {
    "collapsed": true
   },
   "outputs": [],
   "source": [
    "import pickle\n",
    "pickle.dump(dicts, open(\"/home/denis/dev/hack/berlinhack/data/crimes.csv.dic\", \"w\"))"
   ]
  },
  {
   "cell_type": "code",
   "execution_count": 13,
   "metadata": {
    "collapsed": false
   },
   "outputs": [
    {
     "data": {
      "text/plain": [
       "Index([u'Month', u'Longitude', u'Latitude', u'Location', u'LSOA code',\n",
       "       u'Crime type', u'Last outcome category'],\n",
       "      dtype='object')"
      ]
     },
     "execution_count": 13,
     "metadata": {},
     "output_type": "execute_result"
    }
   ],
   "source": [
    "pickle.load(open)"
   ]
  },
  {
   "cell_type": "code",
   "execution_count": 15,
   "metadata": {
    "collapsed": false
   },
   "outputs": [],
   "source": [
    "countsperlsoa = ndf.groupby([\"LSOA code\", \"Crime type\"])[\"Last outcome category\"].count()\n",
    "sumsperlsoa = ndf.groupby([\"LSOA code\", \"Crime type\"])[\"Last outcome category\"].count()"
   ]
  },
  {
   "cell_type": "code",
   "execution_count": 16,
   "metadata": {
    "collapsed": false
   },
   "outputs": [
    {
     "data": {
      "text/plain": [
       "LSOA code  Crime type\n",
       "E01000001  0             10\n",
       "           1             63\n",
       "           2             41\n",
       "           3              9\n",
       "           4             12\n",
       "           5              3\n",
       "           6             16\n",
       "           7              7\n",
       "           8             21\n",
       "           9             13\n",
       "           10             6\n",
       "           11            17\n",
       "           13             1\n",
       "E01000002  0             17\n",
       "           1             74\n",
       "           2             72\n",
       "           3              5\n",
       "           4             12\n",
       "           5              7\n",
       "           6             47\n",
       "           7              2\n",
       "           8             28\n",
       "           9             16\n",
       "           10            10\n",
       "           11            21\n",
       "           12             2\n",
       "           13             2\n",
       "E01000003  0              4\n",
       "           1              5\n",
       "           2             20\n",
       "                         ..\n",
       "E01033745  8              1\n",
       "           10             1\n",
       "           12             3\n",
       "           13             1\n",
       "E01033746  0             18\n",
       "           1             10\n",
       "           2             30\n",
       "           3             16\n",
       "           4              4\n",
       "           5             19\n",
       "           6             17\n",
       "           7              1\n",
       "           9              5\n",
       "           10             1\n",
       "           11             3\n",
       "E01033752  7              1\n",
       "W01000203  7              1\n",
       "W01000372  5              1\n",
       "W01000443  6              1\n",
       "W01000488  5              1\n",
       "W01000506  1              1\n",
       "W01000600  4              1\n",
       "W01000822  7              3\n",
       "W01000871  5              1\n",
       "W01000951  6              1\n",
       "W01001167  6              1\n",
       "W01001324  6              2\n",
       "W01001698  6              1\n",
       "W01001762  6              1\n",
       "W01001768  6              1\n",
       "Name: Last outcome category, Length: 58177, dtype: int64"
      ]
     },
     "execution_count": 16,
     "metadata": {},
     "output_type": "execute_result"
    }
   ],
   "source": [
    "countsperlsoa\n",
    "sumsperlsoa"
   ]
  },
  {
   "cell_type": "code",
   "execution_count": null,
   "metadata": {
    "collapsed": true
   },
   "outputs": [],
   "source": []
  }
 ],
 "metadata": {
  "kernelspec": {
   "display_name": "Python 2",
   "language": "python",
   "name": "python2"
  },
  "language_info": {
   "codemirror_mode": {
    "name": "ipython",
    "version": 2
   },
   "file_extension": ".py",
   "mimetype": "text/x-python",
   "name": "python",
   "nbconvert_exporter": "python",
   "pygments_lexer": "ipython2",
   "version": "2.7.12"
  }
 },
 "nbformat": 4,
 "nbformat_minor": 0
}
